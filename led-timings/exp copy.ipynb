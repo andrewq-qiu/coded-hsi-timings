{
 "cells": [
  {
   "cell_type": "code",
   "execution_count": 294,
   "metadata": {},
   "outputs": [],
   "source": [
    "import numpy as np\n",
    "import pandas as pd\n",
    "import matplotlib.pyplot as plt\n",
    "import os"
   ]
  },
  {
   "cell_type": "code",
   "execution_count": 295,
   "metadata": {},
   "outputs": [],
   "source": [
    "def smooth(x, width=5):\n",
    "    return np.convolve(x, np.ones(width) / width, 'valid')\n",
    "\n",
    "def ddx(x):\n",
    "    return np.convolve(x, [1, 0, -1], 'valid')\n",
    "\n",
    "def get_tick_time(x):\n",
    "    x = x.to_numpy()\n",
    "        \n",
    "    return (x[-1] - x[0]) / (x.size - 1)"
   ]
  },
  {
   "cell_type": "code",
   "execution_count": 296,
   "metadata": {},
   "outputs": [],
   "source": [
    "big_ddx = 0.05\n",
    "big_neg_ddx = -0.06\n",
    "small_ddx = 0\n",
    "big_v = 0.9\n",
    "small_v = 0.05\n",
    "\n",
    "def fall(seconds, volts, plot=False, width=60):\n",
    "    tick_time = get_tick_time(seconds)\n",
    "    \n",
    "    s = smooth(volts, width=width)\n",
    "    d = ddx(s)\n",
    "                \n",
    "    start = np.where(d < -big_ddx)[0].min() - 1\n",
    "    after = d.copy()\n",
    "    after[:start] = np.NaN\n",
    "    end = np.where(after > -small_ddx)[0].min() - 1\n",
    "    \n",
    "    if plot:\n",
    "        plt.plot(seconds, volts)\n",
    "        plt.plot(seconds[start + width // 2: end + width // 2], volts[start + width // 2: end + width // 2])\n",
    "        plt.figure()\n",
    "    \n",
    "    return (end - start) * tick_time * 1000000\n",
    "\n",
    "\n",
    "def rise(seconds, volts, plot=False, width=60, big_ddx=big_ddx):\n",
    "    tick_time = get_tick_time(seconds)\n",
    "    \n",
    "    s = smooth(volts, width=width)\n",
    "    d = ddx(s)\n",
    "                            \n",
    "    start = np.where(d > big_ddx)[0].min() - 1\n",
    "    start_high = np.where(s > big_v)[0].min()\n",
    "    after = d.copy()\n",
    "    after[:start_high] = np.NaN\n",
    "    end = np.where(after < small_ddx)[0].min() - 1\n",
    "    \n",
    "    if plot:\n",
    "        plt.plot(seconds, volts)\n",
    "        plt.plot(seconds[start + width // 2: end + width // 2], volts[start + width // 2: end + width // 2])\n",
    "        plt.figure()\n",
    "    \n",
    "    return (end - start) * tick_time * 1000000\n",
    "\n",
    "\n",
    "def on(seconds, volts, plot=False, width=60):\n",
    "    tick_time = get_tick_time(seconds)\n",
    "    \n",
    "    s = smooth(volts, width=width)\n",
    "    \n",
    "    start = np.where(s > big_v)[0].min()\n",
    "    after = s.copy()\n",
    "    after[:start] = np.NaN\n",
    "    \n",
    "    end = np.where(after < big_v)[0].min()\n",
    "    \n",
    "    if plot:\n",
    "        plt.plot(seconds, volts)\n",
    "        plt.plot(seconds[start + width // 2: end + width // 2], volts[start + width // 2: end + width // 2])\n",
    "        plt.figure()\n",
    "    \n",
    "    return (end - start) * tick_time * 1000000"
   ]
  },
  {
   "cell_type": "code",
   "execution_count": 297,
   "metadata": {},
   "outputs": [],
   "source": [
    "def read_and_normalize(file):\n",
    "    df = pd.read_csv(os.path.join(file), header=1)\n",
    "    df.apply(pd.to_numeric)\n",
    "\n",
    "    seconds = df['second'][5:-5]\n",
    "    volts = df['Volt'][5:-5]\n",
    "        \n",
    "    volts -= np.min(smooth(volts, 40))\n",
    "    volts /= np.max(smooth(volts, 40))\n",
    "    \n",
    "    return seconds, volts"
   ]
  },
  {
   "cell_type": "code",
   "execution_count": 298,
   "metadata": {},
   "outputs": [],
   "source": [
    "def rise_plus_on(seconds, volts, plot=False, smoothing_width=10):\n",
    "    tick_time = get_tick_time(seconds)\n",
    "    \n",
    "    # s = smooth(volts, width=smoothing_width)\n",
    "    # d = ddx(s)\n",
    "    \n",
    "    seconds, volts = seconds.to_numpy(), volts.to_numpy()\n",
    "    \n",
    "    start = 0\n",
    "    k = []\n",
    "    \n",
    "    for i in range(volts.size - 10):\n",
    "        if volts[i+10] - volts[i] > 0.2:\n",
    "            start = i\n",
    "            break\n",
    "        \n",
    "    plt.plot(k)\n",
    "        \n",
    "    end = 0\n",
    "            \n",
    "    for i in range(volts.size // 2, volts.size):\n",
    "        if volts[i+10] - volts[i] < -0.2:\n",
    "            end = i\n",
    "            break\n",
    "                            \n",
    "    # start = np.where(d > big_ddx)[0].min() - 1\n",
    "    # after = d.copy()\n",
    "    # # Only look at the second half of the signal\n",
    "    # after[:after.size // 2] = np.NaN\n",
    "    # end = np.where(after < big_neg_ddx)[0].min() - 1\n",
    "    \n",
    "    if plot:\n",
    "        plt.plot(seconds, volts)\n",
    "        plt.plot(seconds[start: end], volts[start: end])\n",
    "        plt.figure()\n",
    "    \n",
    "    # if plot:\n",
    "    #     plt.plot(seconds, volts)\n",
    "    #     plt.plot(seconds[start + smoothing_width // 2: end + smoothing_width // 2], volts[start + smoothing_width // 2: end + smoothing_width // 2])\n",
    "    #     plt.figure()\n",
    "    \n",
    "    return (end - start) * tick_time * 1000000\n",
    "    "
   ]
  },
  {
   "cell_type": "code",
   "execution_count": 299,
   "metadata": {},
   "outputs": [],
   "source": [
    "# colors = ['white', 'red', 'green', 'blue', 'violet']\n",
    "# graph_colors = [\"black\", \"r\", \"g\", \"b\", \"m\"]\n",
    "\n",
    "# plt.figure()\n",
    "# plt.title(\"LED Rise times\")\n",
    "# plt.xlabel(\"Delay (us)\")\n",
    "# plt.ylabel(\"Rise Time (us)\")\n",
    "\n",
    "# for color, gc in zip(colors, graph_colors):\n",
    "#     rises = []\n",
    "    \n",
    "#     for delay in [200, 400, 600, 800, 1000]:\n",
    "#         seconds, volts = read_file(f'./data/{color}/{delay}_rise.csv')\n",
    "        \n",
    "#         if color == 'white':\n",
    "#             rises.append(rise(seconds, volts, False, width=100, big_ddx=0.005))\n",
    "#         else:\n",
    "#             rises.append(rise(seconds, volts, False))\n",
    "                        \n",
    "#     plt.plot([200, 400, 600, 800, 1000], rises, label=color, color=gc)\n",
    "    \n",
    "# plt.legend()"
   ]
  },
  {
   "cell_type": "code",
   "execution_count": 300,
   "metadata": {},
   "outputs": [
    {
     "data": {
      "text/plain": [
       "801.4999999999992"
      ]
     },
     "execution_count": 300,
     "metadata": {},
     "output_type": "execute_result"
    },
    {
     "data": {
      "image/png": "[encoded data removed]",
      "text/plain": [
       "<Figure size 640x480 with 1 Axes>"
      ]
     },
     "metadata": {},
     "output_type": "display_data"
    },
    {
     "data": {
      "text/plain": [
       "<Figure size 640x480 with 0 Axes>"
      ]
     },
     "metadata": {},
     "output_type": "display_data"
    }
   ],
   "source": [
    "colors = ['amber', 'blue', 'cyan', 'deep_red', 'far_red', 'green', 'lime', 'mint', 'red', 'red_orange', 'royal_blue', 'white']\n",
    "smoothing_widths = [10] * 12\n",
    "# Smooth white more than other colors\n",
    "smoothing_widths[11] = 50\n",
    "\n",
    "seconds, volts = read_and_normalize(\"data/blue/800.csv\")\n",
    "rise_plus_on(seconds, volts, plot=True, smoothing_width=10)\n",
    "# s = smooth(volts, width=10)\n",
    "# d = ddx(s)\n",
    "# plt.plot(d)"
   ]
  },
  {
   "cell_type": "code",
   "execution_count": 301,
   "metadata": {},
   "outputs": [],
   "source": [
    "# colors = ['white', 'red', 'green', 'blue', 'violet']\n",
    "# graph_colors = [\"black\", \"r\", \"g\", \"b\", \"m\"]\n",
    "\n",
    "# plt.figure()\n",
    "# plt.title(\"LED Fall times\")\n",
    "# plt.xlabel(\"Delay (us)\")\n",
    "# plt.ylabel(\"Fall Time (us)\")\n",
    "\n",
    "# for color, gc in zip(colors, graph_colors):\n",
    "#     falls = []\n",
    "    \n",
    "#     for delay in [200, 400, 600, 800, 1000]:\n",
    "#         seconds, volts = read_file(f'./data/{color}/{delay}_fall.csv')\n",
    "        \n",
    "#         if color == 'white':\n",
    "#             falls.append(fall(seconds, volts, False, width=100))\n",
    "#         else:\n",
    "#             falls.append(fall(seconds, volts, False))\n",
    "                        \n",
    "#     plt.plot([200, 400, 600, 800, 1000], falls, label=color, color=gc)\n",
    "    \n",
    "# plt.legend()"
   ]
  },
  {
   "cell_type": "code",
   "execution_count": null,
   "metadata": {},
   "outputs": [],
   "source": []
  }
 ],
 "metadata": {
  "kernelspec": {
   "display_name": "Python 3",
   "language": "python",
   "name": "python3"
  },
  "language_info": {
   "codemirror_mode": {
    "name": "ipython",
    "version": 3
   },
   "file_extension": ".py",
   "mimetype": "text/x-python",
   "name": "python",
   "nbconvert_exporter": "python",
   "pygments_lexer": "ipython3",
   "version": "3.10.6"
  }
 },
 "nbformat": 4,
 "nbformat_minor": 2
}
